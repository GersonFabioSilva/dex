{
 "cells": [
  {
   "cell_type": "code",
   "execution_count": 1,
   "metadata": {},
   "outputs": [
    {
     "name": "stderr",
     "output_type": "stream",
     "text": [
      "2024-11-19 18:23:57.720820: I external/local_xla/xla/tsl/cuda/cudart_stub.cc:32] Could not find cuda drivers on your machine, GPU will not be used.\n",
      "2024-11-19 18:23:57.727148: I external/local_xla/xla/tsl/cuda/cudart_stub.cc:32] Could not find cuda drivers on your machine, GPU will not be used.\n",
      "2024-11-19 18:23:57.745327: E external/local_xla/xla/stream_executor/cuda/cuda_fft.cc:477] Unable to register cuFFT factory: Attempting to register factory for plugin cuFFT when one has already been registered\n",
      "WARNING: All log messages before absl::InitializeLog() is called are written to STDERR\n",
      "E0000 00:00:1732051437.775062  350310 cuda_dnn.cc:8310] Unable to register cuDNN factory: Attempting to register factory for plugin cuDNN when one has already been registered\n",
      "E0000 00:00:1732051437.783568  350310 cuda_blas.cc:1418] Unable to register cuBLAS factory: Attempting to register factory for plugin cuBLAS when one has already been registered\n",
      "2024-11-19 18:23:57.818867: I tensorflow/core/platform/cpu_feature_guard.cc:210] This TensorFlow binary is optimized to use available CPU instructions in performance-critical operations.\n",
      "To enable the following instructions: AVX2 FMA, in other operations, rebuild TensorFlow with the appropriate compiler flags.\n"
     ]
    }
   ],
   "source": [
    "import pandas as pd\n",
    "from sklearn.model_selection import train_test_split\n",
    "from sklearn.preprocessing import LabelEncoder, StandardScaler\n",
    "import tensorflow as tf\n",
    "from tensorflow.keras.models import load_model\n",
    "from sklearn.preprocessing import LabelEncoder, StandardScaler\n",
    "import numpy as np\n",
    "import joblib\n"
   ]
  },
  {
   "cell_type": "code",
   "execution_count": 13,
   "metadata": {},
   "outputs": [
    {
     "name": "stderr",
     "output_type": "stream",
     "text": [
      "WARNING:absl:Compiled the loaded model, but the compiled metrics have yet to be built. `model.compile_metrics` will be empty until you train or evaluate the model.\n"
     ]
    }
   ],
   "source": [
    "model = load_model(\"scr/pm_classificacao.h5\")"
   ]
  },
  {
   "cell_type": "code",
   "execution_count": 14,
   "metadata": {},
   "outputs": [
    {
     "name": "stderr",
     "output_type": "stream",
     "text": [
      "/home/pgm6/anaconda3/envs/mlops/lib/python3.10/site-packages/sklearn/base.py:493: UserWarning: X does not have valid feature names, but StandardScaler was fitted with feature names\n",
      "  warnings.warn(\n"
     ]
    }
   ],
   "source": [
    "label_encoder = joblib.load(\"scr/label_encoder.pkl\")\n",
    "scaler = joblib.load(\"scr/scaler.pkl\")\n",
    "\n",
    "new_sample = np.array([[300.1, 310.2, 1500, 50, 10, 1, 0]])\n",
    "\n",
    "new_sample_scaled = scaler.transform(new_sample)"
   ]
  },
  {
   "cell_type": "code",
   "execution_count": null,
   "metadata": {},
   "outputs": [
    {
     "name": "stdout",
     "output_type": "stream",
     "text": [
      "\u001b[1m1/1\u001b[0m \u001b[32m━━━━━━━━━━━━━━━━━━━━\u001b[0m\u001b[37m\u001b[0m \u001b[1m0s\u001b[0m 22ms/step\n",
      "Probabilidades por classe:\n",
      "Classe: 0, Rótulo: Heat Dissipation Failure, Probabilidade: 0.0000\n",
      "Classe: 1, Rótulo: No Failure, Probabilidade: 0.9996\n",
      "Classe: 2, Rótulo: Overstrain Failure, Probabilidade: 0.0000\n",
      "Classe: 3, Rótulo: Power Failure, Probabilidade: 0.0000\n",
      "Classe: 4, Rótulo: Random Failures, Probabilidade: 0.0001\n",
      "Classe: 5, Rótulo: Tool Wear Failure, Probabilidade: 0.0002\n",
      "\n",
      "Classe predita (índice): 1\n",
      "Rótulo predito: No Failure\n",
      "Probabilidade predita: 0.9995727\n"
     ]
    },
    {
     "ename": "SyntaxError",
     "evalue": "'return' outside function (302703736.py, line 23)",
     "output_type": "error",
     "traceback": [
      "\u001b[0;36m  Cell \u001b[0;32mIn[17], line 23\u001b[0;36m\u001b[0m\n\u001b[0;31m    return probabilities\u001b[0m\n\u001b[0m    ^\u001b[0m\n\u001b[0;31mSyntaxError\u001b[0m\u001b[0;31m:\u001b[0m 'return' outside function\n"
     ]
    }
   ],
   "source": [
    "# Fazer a predição\n",
    "\n",
    "def predict(data: dict):\n",
    "\n",
    "    predictions = model.predict(new_sample_scaled)[0]\n",
    "\n",
    "    # Obter a classe com maior probabilidade\n",
    "    predicted_class = np.argmax(predictions)\n",
    "    predicted_label = label_encoder.inverse_transform([predicted_class])[0]\n",
    "\n",
    "    # Exibir as probabilidades para cada classe\n",
    "    print(\"Probabilidades por classe:\")\n",
    "    for class_idx, probability in enumerate(predictions):\n",
    "        label = label_encoder.inverse_transform([class_idx])[0]\n",
    "        print(f\"Classe: {class_idx}, Rótulo: {label}, Probabilidade: {probability:.4f}\")\n",
    "\n",
    "\n",
    "    probabilities = {'Heat Dissipation': predictions[0]}\n",
    "\n",
    "\n",
    "    # Exibir o resultado final\n",
    "    print(\"\\nClasse predita (índice):\", predicted_class)\n",
    "    print(\"Rótulo predito:\", predicted_label)\n",
    "    print(\"Probabilidade predita:\", predictions[predicted_class])\n",
    "\n",
    "    return probabilities"
   ]
  },
  {
   "cell_type": "code",
   "execution_count": null,
   "metadata": {},
   "outputs": [],
   "source": []
  }
 ],
 "metadata": {
  "kernelspec": {
   "display_name": "mlops",
   "language": "python",
   "name": "python3"
  },
  "language_info": {
   "codemirror_mode": {
    "name": "ipython",
    "version": 3
   },
   "file_extension": ".py",
   "mimetype": "text/x-python",
   "name": "python",
   "nbconvert_exporter": "python",
   "pygments_lexer": "ipython3",
   "version": "3.10.15"
  }
 },
 "nbformat": 4,
 "nbformat_minor": 2
}
